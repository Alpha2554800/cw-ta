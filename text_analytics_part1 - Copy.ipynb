{
 "cells": [
  {
   "cell_type": "markdown",
   "id": "794243c0",
   "metadata": {},
   "source": [
    "# Text Analytics Coursework -- Tasks 1.1 to 1.3\n",
    "\n",
    "# Instructions:\n",
    "\n",
    "This notebook is forms the first part of your coursework assignment for Text Analytics in Spring 2025. You will need to read the instructions below and complete numbered tasks indicated by \"TASK n\". To complete the tasks, you will write code or explanations between the comments \"#WRITE YOUR ANSWER HERE\" and \"#END OF ANSWER\". For example:\n",
    "\n",
    "TASK 0: Complete the function below to output \"hello world\". \n"
   ]
  },
  {
   "cell_type": "code",
   "execution_count": 7,
   "id": "5486ee90",
   "metadata": {},
   "outputs": [
    {
     "name": "stdout",
     "output_type": "stream",
     "text": [
      "hello world\n"
     ]
    }
   ],
   "source": [
    "def demo_fun():\n",
    "    # WRITE YOUR ANSWER HERE\n",
    "    print(\"hello world\")\n",
    "    # END OF ANSWER\n",
    "\n",
    "### DO NOT MODIFY\n",
    "demo_fun()\n",
    "###"
   ]
  },
  {
   "cell_type": "markdown",
   "id": "a422f8fe",
   "metadata": {},
   "source": [
    "There is also some code in the cell that should not be modified. This code saves your results to file in the correct format, which is necessary for us to be able to mark your answers. Before you submit your notebook, please make sure this code has not been modified, then restart your kernel, clear all cell outputs, run all of your code once again, then save the notebook. \n",
    "\n",
    "Please note:\n",
    "  * The notebook you upload must include all the saved cell output after running all cells.\n",
    "  * The notebook code must be complete so that it reproduces all your output when we run it. \n",
    "  * For this coursework, we recommend that you use your virtual environment that you created for the labs. The packages you need are: numpy, scipy, nltk, pytorch, transformers and datasets (from HuggingFace), pandas, matplotlib and scikit-learn. \n",
    "\n",
    "## Marking guidelines:\n",
    "1. This notebook is worth 32% of the marks for the Text Analytics assignment.\n",
    "1. The number of marks for each task is shown alongside the task.\n",
    "1. We will evaluate the output of your code after running it, and marks will be awarded based on how well the output matches the task's instructions. \n",
    "1. We will give partial marks for incomplete or partially correct answers. \n",
    "1. We do not give additional marks for code style or comments, but clear code will help us to understand what you have done so that we can award partial marks where necessary. \n",
    "1. Unless the task asks you to implement something from scratch, there is no penalty for using software libraries in your implementation.\n",
    "\n",
    "## Support:\n",
    "\n",
    "The main source of support will be during the lab sessions. The TAs and lecturers will help you with questions about the lectures, the code provided for you in this notebook, and general questions about the topics we cover. For the assessed tasks, they can only answer clarifying questions about what you have to do. Please email Edwin if you have any other queries edwin.simpson@bristol.ac.uk and/or post your query to the Teams channel for this unit.\n",
    "\n",
    "## Deadline:\n",
    "\n",
    "The notebook must be submitted along with the second notebook on Blackboard before **Monday 28th April at 13.00**. \n",
    "\n",
    "## Submission:\n",
    "\n",
    "For this part of the assignment, please zip up the folder containing this file and the 'outputs' directory, containing the output from this notebook as .csv files. Please name your notebook file like this:\n",
    "   * Name this notebook 'text_analytics_part1_\\<student number\\>.ipynb'. Replace '\\<student number\\>' with your student number, which consists only of digits beginning with '2'. \n",
    "   * We mark anonymously, so please don't include your name in the notebook.\n",
    "\n",
    "You can submit the file on Blackboard to the submission point \"Text Analytics Part 1 Notebook\". Remember that the assignment also has parts 2 and 3, described in the PDF file on Blackboard."
   ]
  },
  {
   "cell_type": "markdown",
   "id": "54ff04e2",
   "metadata": {},
   "source": [
    "# Setup: random seeds\n",
    "\n",
    "Each student will work with slightly different data splits and model weights, which will be determined by setting your 'random seed'. \n",
    "We will check that your results come from using your random seed. Please set the seed in the cell below by changing the value of 'my_student_number' to your own student number (not your username, the number you can see on eVision that contains only digits). \n",
    "\n",
    "Using the correct seed ensures that your results are reproducible when we rerun your notebook."
   ]
  },
  {
   "cell_type": "code",
   "execution_count": 8,
   "id": "80bd735e",
   "metadata": {},
   "outputs": [],
   "source": [
    "import torch\n",
    "import random\n",
    "import numpy as np\n",
    "\n",
    "def set_seed(seed: int = 42):\n",
    "    random.seed(seed)  # Python's built-in random module\n",
    "    np.random.seed(seed)  # NumPy\n",
    "    torch.manual_seed(seed)  # PyTorch CPU\n",
    "    torch.cuda.manual_seed(seed)  # PyTorch GPU (if available)\n",
    "    torch.cuda.manual_seed_all(seed)  # Multi-GPU\n",
    "    torch.backends.cudnn.deterministic = True  # Ensure deterministic behavior\n",
    "    torch.backends.cudnn.benchmark = False  # Disable benchmark mode for reproducibility\n",
    "\n",
    "### SET YOUR SEED TO YOUR STUDENT NUMBER HERE\n",
    "my_student_number = 2554800\n",
    "set_seed(my_student_number)"
   ]
  },
  {
   "cell_type": "markdown",
   "id": "2877d086",
   "metadata": {},
   "source": [
    "# Setup: loading the data\n",
    "\n",
    "Let's make a folder to save the output of your work:"
   ]
  },
  {
   "cell_type": "code",
   "execution_count": 9,
   "id": "60bd9213",
   "metadata": {},
   "outputs": [],
   "source": [
    "import os\n",
    "import pandas as pd\n",
    "\n",
    "#os.mkdir('./outputs')"
   ]
  },
  {
   "cell_type": "markdown",
   "id": "f79fc2c4",
   "metadata": {},
   "source": [
    "Now, let's load some more packages we will need later:"
   ]
  },
  {
   "cell_type": "code",
   "execution_count": 10,
   "id": "annoying-ethiopia",
   "metadata": {},
   "outputs": [],
   "source": [
    "%load_ext autoreload\n",
    "%autoreload 2\n",
    "\n",
    "# Use HuggingFace's datasets library to access the Emotion dataset\n",
    "from datasets import load_dataset\n",
    "import numpy as np\n",
    "from sklearn.model_selection import train_test_split "
   ]
  },
  {
   "cell_type": "markdown",
   "id": "09e90e82-bbdb-4532-91b1-58229d4f1043",
   "metadata": {},
   "source": [
    "\n",
    "The dataset classifies paragraphs taken from corporate disclosures that discuss climate-related issues. It classifiers them into \"risk\" (0), \"neutral\" (1) or \"opportunity\" (2) representing the sentiment of the paragraph.\n",
    "\n",
    "First we need to load the data. The data is already split into train, validation and test. The _validation_ set (also called 'development' set or 'devset') can be used to compute performance of your model when tuning hyperparameters, optimising combinations of features, or looking at the errors your model makes before improving it. This allows you to hold out the test set (i.e., not to look at it at all when developing your method) to give a fair evaluation of the model and how well it generalises to new examples. This avoids tuning the model to specific examples in the test set. An alternative approach to validation is to not use a single fixed validation set, but instead use [cross validation](https://scikit-learn.org/stable/modules/cross_validation.html). "
   ]
  },
  {
   "cell_type": "code",
   "execution_count": 11,
   "id": "efaf1096-acce-4226-a172-5357f49e91c1",
   "metadata": {},
   "outputs": [
    {
     "name": "stdout",
     "output_type": "stream",
     "text": [
      "Training dataset with 800 instances loaded\n",
      "Development/validation dataset with 200 instances loaded\n"
     ]
    }
   ],
   "source": [
    "cache_dir = \"./data_cache\"\n",
    "\n",
    "# load the original training set from HuggingFace\n",
    "train_dataset = load_dataset(\n",
    "    \"climatebert/climate_sentiment\",\n",
    "    split=\"train\",\n",
    "    cache_dir=cache_dir,\n",
    ")\n",
    "\n",
    "# we're going to create a new validation set by splitting the data\n",
    "dataset_splits = train_dataset.train_test_split(test_size=0.2)\n",
    "train_dataset = dataset_splits[\"train\"]\n",
    "val_dataset = dataset_splits[\"test\"]\n",
    "\n",
    "train_texts = np.array(train_dataset[\"text\"])\n",
    "val_texts = np.array(val_dataset[\"text\"])\n",
    "\n",
    "train_labels = np.array(train_dataset[\"label\"])\n",
    "val_labels = np.array(val_dataset[\"label\"])\n",
    "\n",
    "print(f\"Training dataset with {len(train_texts)} instances loaded\")\n",
    "print(f\"Development/validation dataset with {len(val_texts)} instances loaded\")\n",
    "\n",
    "### DO NOT MODIFY\n",
    "# save gold labels to file\n",
    "pd.DataFrame(val_labels).to_csv('./outputs/val_labels.csv')"
   ]
  },
  {
   "cell_type": "markdown",
   "id": "38916c42",
   "metadata": {},
   "source": [
    "In this notebook, you're going to build three different classifiers for this dataset, then compare how they work, and analyse the results. We are going to start by implementing a naïve Bayes classifier from scratch. \n",
    "\n",
    "We are going to begin by initialising some useful variables and doing some very simple pre-processing using CountVectorizer."
   ]
  },
  {
   "cell_type": "code",
   "execution_count": 12,
   "id": "5fb3e757",
   "metadata": {},
   "outputs": [
    {
     "name": "stderr",
     "output_type": "stream",
     "text": [
      "c:\\Users\\arpan\\anaconda3\\envs\\text_analytics\\Lib\\site-packages\\sklearn\\feature_extraction\\text.py:517: UserWarning: The parameter 'token_pattern' will not be used since 'tokenizer' is not None'\n",
      "  warnings.warn(\n"
     ]
    }
   ],
   "source": [
    "from sklearn.feature_extraction.text import CountVectorizer\n",
    "from nltk import word_tokenize\n",
    "\n",
    "num_classes = 3\n",
    "\n",
    "def preprocess(train_texts):\n",
    "    vectorizer = CountVectorizer(ngram_range=(2,2), tokenizer=word_tokenize)\n",
    "    X = vectorizer.fit_transform(train_texts).toarray()\n",
    "    num_features = X.shape[1]\n",
    "\n",
    "    X_val = vectorizer.transform(val_texts).toarray()\n",
    "\n",
    "    return X, X_val, vectorizer, num_features\n",
    "\n",
    "X, X_val, vectorizer, num_features = preprocess(train_texts)"
   ]
  },
  {
   "cell_type": "markdown",
   "id": "9cb1f7d1",
   "metadata": {},
   "source": [
    "## TASK 1.1a\n",
    "\n",
    "Complete the function below to compute the class priors, $p(y_n = c)$ for each class label $c$, where $y_n$ is the class label of document $n$. Do not use the Sklearn implementation to do this, but implement it yourself, e.g., using Numpy functions. The function must output the class priors as a list or Numpy array containing the probabilities. You do not need to apply any smoothing or regularisation.    (3 marks)"
   ]
  },
  {
   "cell_type": "code",
   "execution_count": 13,
   "id": "79e7da69",
   "metadata": {},
   "outputs": [
    {
     "name": "stdout",
     "output_type": "stream",
     "text": [
      "[0.34875 0.39625 0.255  ]\n"
     ]
    }
   ],
   "source": [
    "def compute_class_priors(texts, labels):\n",
    "    priors = np.zeros(num_classes)\n",
    "\n",
    "    ### WRITE YOUR ANSWER HERE\n",
    "    class_counts = np.bincount(labels)\n",
    "    priors = class_counts / len(labels)\n",
    "\n",
    "    ### END OF ANSWER\n",
    "    return priors\n",
    "\n",
    "\n",
    "class_priors = compute_class_priors(train_texts, train_labels)\n",
    "print(class_priors)\n",
    "\n",
    "### DO NOT MODIFY\n",
    "pd.DataFrame(class_priors).to_csv('./outputs/11a_class_priors.csv')"
   ]
  },
  {
   "cell_type": "markdown",
   "id": "3bc8c63e",
   "metadata": {},
   "source": [
    "## TASK 1.1b\n",
    "\n",
    "Complete the function below to extract n-gram features from the text, then compute the liklihood $p(x_{ni} = w | y_n = c)$ that the $i$ th n-gram in document $n$ is $w$, given that the class of $n$ is $c$. Again, do not use the Sklearn implementation to do this, but implement it yourself, e.g., using Numpy functions. The function must output the likelihoods as a 2D Numpy array containing probabilities. You should apply smoothing by adding counts of +1 to the counts of each feature.  (3 marks)"
   ]
  },
  {
   "cell_type": "code",
   "execution_count": 14,
   "id": "91d8722e",
   "metadata": {},
   "outputs": [],
   "source": [
    "def compute_feature_likelihoods(X, labels):\n",
    "\n",
    "    likelihoods = np.ones((num_features, num_classes))  # a 2D numpy array where you can store the likelihoods. Note that all values are initialised to one.\n",
    "\n",
    "    ### WRITE YOUR ANSWER HERE\n",
    "    for c in range(num_classes):\n",
    "        # Get documents of class c\n",
    "        class_mask = (labels == c)\n",
    "        X_c = X[class_mask]\n",
    "        \n",
    "        # Sum counts for each feature (ngram) in this class\n",
    "        feature_counts = X_c.sum(axis=0)  # Sum across documents → shape [features]\n",
    "        \n",
    "        # Total tokens in class (sum all ngram counts)\n",
    "        total_tokens = X_c.sum()\n",
    "        \n",
    "        # Laplace smoothing: (count + 1) / (total_tokens + num_features)\n",
    "        likelihoods[:, c] = (feature_counts + 1) / (total_tokens + num_features)\n",
    "\n",
    "\n",
    "    ### END OF ANSWER\n",
    "    return likelihoods\n",
    "\n",
    "likelihoods = compute_feature_likelihoods(X, train_labels)\n",
    "\n",
    "### DO NOT MODIFY\n",
    "pd.DataFrame(likelihoods).to_csv('./outputs/11b_likelihoods.csv')"
   ]
  },
  {
   "cell_type": "markdown",
   "id": "8f6a867a",
   "metadata": {},
   "source": [
    "Now, we are going to use the code in the next cell to compute the log probabilities of each class for each text in the validation set. This code will use the previous functions you implemented, compute_class_priors and compute_feature_likelihoods. The log probabilities will be stored in the 'predictions' array."
   ]
  },
  {
   "cell_type": "code",
   "execution_count": 15,
   "id": "30194a65",
   "metadata": {},
   "outputs": [
    {
     "name": "stdout",
     "output_type": "stream",
     "text": [
      "[[-1.97627064e+01 -2.68951966e+00 -7.03297171e-02]\n",
      " [-1.13201115e+01 -1.18703507e-03 -6.74716460e+00]\n",
      " [-6.29842767e+00 -2.26693622e-03 -7.76301127e+00]\n",
      " [-7.92891022e+00 -2.44782231e-01 -1.52894231e+00]\n",
      " [-1.15057738e+01 -1.91330846e-02 -3.96641915e+00]\n",
      " [ 0.00000000e+00 -4.92425600e+01 -7.33630050e+01]\n",
      " [-1.18518537e-01 -5.78980648e+00 -2.21910759e+00]\n",
      " [-1.31378850e+01 -2.42176530e+00 -9.29563791e-02]\n",
      " [-4.87571626e+01  0.00000000e+00 -4.82190651e+01]\n",
      " [ 0.00000000e+00 -4.33284557e+01 -5.73522020e+01]\n",
      " [-2.38858667e+01 -5.75147396e-09 -1.89811969e+01]\n",
      " [-8.85679745e-03 -5.17855422e+00 -5.75038917e+00]\n",
      " [-6.73877403e-01 -1.81153508e+00 -1.11819711e+00]\n",
      " [-1.23736186e-08 -1.82157246e+01 -2.30371242e+01]\n",
      " [-2.34314261e+01 -4.37069048e-10 -2.17164202e+01]\n",
      " [-1.44950718e-11 -2.49591833e+01 -3.32419475e+01]\n",
      " [-1.30317119e+01 -1.40295807e+01 -2.99707102e-06]\n",
      " [ 0.00000000e+00 -6.95945632e+01 -8.52024489e+01]\n",
      " [-1.29822532e+01 -1.49276265e+00 -2.54573837e-01]\n",
      " [-3.31368875e+00 -3.70600410e-02 -3.28270440e+01]\n",
      " [-9.59996316e-06 -1.15559059e+01 -1.76971938e+01]\n",
      " [-1.16968823e+01 -1.47774512e-04 -8.87784836e+00]\n",
      " [-1.54538940e+01 -4.63026226e+00 -9.80026156e-03]\n",
      " [-7.04866671e+00 -8.69053249e-04 -1.60273738e+01]\n",
      " [-6.99792616e+01 -2.38287612e-10 -2.21578378e+01]\n",
      " [ 0.00000000e+00 -5.43515386e+01 -6.48441561e+01]\n",
      " [-1.57998141e-01 -2.69129871e+00 -2.54649539e+00]\n",
      " [-8.11751804e+00 -5.68751074e-04 -8.21589918e+00]\n",
      " [-8.26410848e+00 -2.72536859e-04 -1.11140656e+01]\n",
      " [ 0.00000000e+00 -5.27796533e+01 -6.87225563e+01]\n",
      " [-1.63538126e-04 -8.71866407e+00 -1.77643258e+01]\n",
      " [-7.78867280e+00 -5.51727488e-01 -8.58891068e-01]\n",
      " [-1.01617345e+01 -4.48911676e-05 -1.19797442e+01]\n",
      " [ 0.00000000e+00 -3.75611548e+01 -3.80796670e+01]\n",
      " [-3.85809051e+00 -2.13499242e-02 -1.10836942e+01]\n",
      " [ 0.00000000e+00 -6.17011541e+01 -6.76165768e+01]\n",
      " [-9.94652975e+00 -4.79087287e-05 -1.80818736e+01]\n",
      " [-3.55490601e+00 -6.54056746e+00 -3.04877960e-02]\n",
      " [-2.23678853e-09 -1.99186801e+01 -2.76335854e+01]\n",
      " [-4.22065970e-02 -3.20787033e+00 -7.02919160e+00]\n",
      " [-2.29611424e+00 -1.06377069e-01 -8.23484117e+00]\n",
      " [-8.87953718e-07 -1.39343473e+01 -2.81004506e+01]\n",
      " [-3.89857870e+01  0.00000000e+00 -4.77529172e+01]\n",
      " [-9.24036767e+00 -9.58741510e-03 -4.66231632e+00]\n",
      " [-5.04498205e+00 -1.97510218e+00 -1.56874549e-01]\n",
      " [-1.63697618e+01 -1.10873058e+01 -1.53832546e-05]\n",
      " [-8.78810624e-09 -1.85498721e+01 -3.66118316e+01]\n",
      " [-7.81742896e+00 -4.02736773e-04 -2.31380779e+01]\n",
      " [-9.00392799e-01 -5.27382444e-01 -5.67161119e+00]\n",
      " [-2.05922985e+01 -7.22074650e-05 -9.53601901e+00]\n",
      " [-1.99617954e+01 -1.63422974e+01 -8.20568289e-08]\n",
      " [-3.07964001e-08 -1.73024174e+01 -2.23274377e+01]\n",
      " [-4.70622944e-02 -3.07972224e+00 -1.83400044e+01]\n",
      " [-1.93267624e-12 -2.69606683e+01 -3.92348325e+01]\n",
      " [-1.68637631e+01 -1.21930309e+01 -5.11309037e-06]\n",
      " [-7.87849785e-10 -2.09698455e+01 -2.57719902e+01]\n",
      " [-4.87777597e+00 -7.64395769e-03 -1.39341867e+01]\n",
      " [-3.98503064e-01 -1.11430594e+00 -7.53731453e+00]\n",
      " [-9.32262325e+00 -9.58219508e-05 -1.19532583e+01]\n",
      " [-1.06357535e-02 -4.86116445e+00 -5.86468045e+00]\n",
      " [ 0.00000000e+00 -6.84114872e+01 -6.88682741e+01]\n",
      " [-1.86819798e+01 -3.91703115e+00 -2.01007688e-02]\n",
      " [-6.02485748e+00 -2.42171751e-03 -1.39304904e+01]\n",
      " [-1.04391117e+00 -4.41777367e-01 -5.29187974e+00]\n",
      " [-4.20764802e+00 -1.50330976e-02 -1.01433486e+01]\n",
      " [-6.49856067e+00 -3.51483882e-03 -6.21307712e+00]\n",
      " [ 0.00000000e+00 -6.15990203e+01 -7.03807612e+01]\n",
      " [-9.55320797e+00 -1.96557933e+00 -1.50992308e-01]\n",
      " [ 0.00000000e+00 -3.34083405e+01 -3.85270901e+01]\n",
      " [-6.56209597e+01  0.00000000e+00 -1.14889603e+02]\n",
      " [-2.00596679e+01 -2.70156238e-06 -1.28224006e+01]\n",
      " [-2.54267240e+01 -1.10049098e+01 -1.66200471e-05]\n",
      " [-3.06225506e+01 -1.70684984e-07 -1.55834463e+01]\n",
      " [-1.92119060e-01 -1.74416598e+00 -1.42031004e+01]\n",
      " [-3.21006555e+01  0.00000000e+00 -3.56801125e+01]\n",
      " [-1.14541911e+00 -3.87145499e-01 -5.83715525e+00]\n",
      " [-6.69609798e+01  0.00000000e+00 -7.26757393e+01]\n",
      " [-9.87135532e-02 -3.73999834e+00 -2.65578515e+00]\n",
      " [-1.04061484e+01 -3.02464034e-05 -3.20049602e+01]\n",
      " [-4.54747351e-13 -2.83022637e+01 -3.93740222e+01]\n",
      " [-3.28693621e+01 -1.08743781e+01 -1.89374589e-05]\n",
      " [-9.31600291e+00 -9.14206054e-05 -1.34483677e+01]\n",
      " [-7.92692134e+00 -1.22192821e+01 -3.65897101e-04]\n",
      " [-1.23898282e+01 -9.06531751e+00 -1.19774468e-04]\n",
      " [-1.27707734e+01 -2.85159138e-06 -1.85331664e+01]\n",
      " [-8.98757274e+00 -5.70389278e-01 -8.33398905e-01]\n",
      " [-3.73903030e+00 -4.68913809e-02 -3.81526769e+00]\n",
      " [-2.25652142e-03 -6.09510920e+00 -1.59923859e+01]\n",
      " [-6.81712501e+00 -3.65167472e-03 -5.97160257e+00]\n",
      " [-1.07716067e-03 -6.83396533e+00 -2.30599283e+01]\n",
      " [-2.24700804e+00 -1.12020529e-01 -8.25849231e+00]\n",
      " [-5.08583984e+00 -6.20441089e-03 -1.34023044e+01]\n",
      " [ 0.00000000e+00 -3.95262868e+01 -4.60623823e+01]\n",
      " [-9.21419594e+00 -4.89128221e+00 -7.64051431e-03]\n",
      " [-6.63784665e-01 -8.17416160e-01 -3.13430615e+00]\n",
      " [-2.11239474e+01 -1.28764754e-05 -1.12601670e+01]\n",
      " [-2.23153864e-01 -1.61765688e+00 -6.40982847e+00]\n",
      " [-2.31223457e-01 -1.57784346e+00 -1.09190550e+01]\n",
      " [-3.41401574e-10 -2.19186159e+01 -2.39732211e+01]\n",
      " [-1.68197299e-02 -4.31744056e+00 -5.70025850e+00]\n",
      " [-4.59020063e+01  0.00000000e+00 -4.29431007e+01]\n",
      " [-4.49887236e+00 -5.16865578e+00 -1.69567015e-02]\n",
      " [-1.00543997e+01 -2.14206401e+00 -1.24945781e-01]\n",
      " [-6.22920090e+00 -1.97361180e-03 -1.42630497e+01]\n",
      " [-6.90506498e+00 -2.63898003e-03 -6.41745462e+00]\n",
      " [-1.24393669e+01 -3.96488269e-06 -1.90607932e+01]\n",
      " [ 0.00000000e+00 -4.27419018e+01 -4.36600511e+01]\n",
      " [-3.53714151e-05 -1.02496259e+01 -2.35773956e+01]\n",
      " [-3.35790362e+00 -4.27287203e-02 -4.95891243e+00]\n",
      " [-1.23231647e+01 -4.44752641e-06 -2.94189347e+01]\n",
      " [-2.27373675e-13 -2.90849669e+01 -3.61041787e+01]\n",
      " [-5.20635524e-01 -1.08882270e+00 -2.67011000e+00]\n",
      " [-1.20819839e-04 -9.02127047e+00 -2.81436785e+01]\n",
      " [-8.37569111e+00 -2.31334436e-04 -1.39130119e+01]\n",
      " [-1.20951629e+01 -1.43367533e-05 -1.16464363e+01]\n",
      " [-1.27707734e+01 -2.85159138e-06 -1.85331664e+01]\n",
      " [-8.43617158e-08 -1.62883360e+01 -2.48914266e+01]\n",
      " [ 0.00000000e+00 -3.36210149e+01 -5.09325132e+01]\n",
      " [-2.02513095e+00 -1.42072517e-01 -7.67325986e+00]\n",
      " [-6.74050546e+00 -1.18275279e-03 -1.93162324e+01]\n",
      " [-1.03892623e+01 -1.16162835e-01 -2.21056209e+00]\n",
      " [-2.05061116e+01 -1.24271082e-09 -2.94580000e+01]\n",
      " [-3.42960484e-01 -1.23673605e+00 -1.25769885e+01]\n",
      " [-2.34509708e+01 -6.62794264e-11 -2.77604200e+01]\n",
      " [-4.87123771e-07 -1.46179727e+01 -1.70622813e+01]\n",
      " [-4.73090518e+00 -8.99392792e-03 -8.90935893e+00]\n",
      " [-1.56753308e+01 -1.06118120e+00 -4.24719756e-01]\n",
      " [-1.48642483e+01 -3.05958462e+00 -4.80433452e-02]\n",
      " [ 0.00000000e+00 -7.29923113e+01 -8.58274171e+01]\n",
      " [ 0.00000000e+00 -1.08497920e+02 -1.32999651e+02]\n",
      " [-3.79249921e+00 -2.27970986e-02 -1.87679069e+01]\n",
      " [-1.34410176e+01 -1.73099409e-06 -1.51001921e+01]\n",
      " [-1.20608817e+01 -3.75745880e+00 -2.36256667e-02]\n",
      " [-7.02286830e+00 -1.11007575e-01 -2.26166616e+00]\n",
      " [-1.48264618e+01 -1.83854009e+01 -3.74231888e-07]\n",
      " [-2.55039976e+01 -1.29055033e+01 -2.48435191e-06]\n",
      " [-6.11308688e+00 -2.21623815e-03 -1.63755912e+01]\n",
      " [-1.86105741e+01 -4.06852791e-08 -1.72446508e+01]\n",
      " [-8.79366746e-04 -7.06820721e+00 -1.05115053e+01]\n",
      " [-2.72095519e-08 -1.74605193e+01 -2.06385916e+01]\n",
      " [-6.88794444e-09 -1.87934930e+01 -4.18898674e+01]\n",
      " [-3.66527772e+00 -4.92951477e-01 -1.01175034e+00]\n",
      " [-7.14719649e+00 -7.87612456e-04 -1.52644207e+01]\n",
      " [-1.29971296e+01 -2.27407872e-06 -1.87423552e+01]\n",
      " [-9.28156625e-01 -5.02994893e-01 -1.34608590e+01]\n",
      " [-6.51994014e-09 -2.07595359e+01 -1.90084663e+01]\n",
      " [-7.28961103e+00 -6.82121588e-02 -2.72945072e+00]\n",
      " [-1.60725822e+01 -1.07063233e+01 -2.25077387e-05]\n",
      " [-3.54246688e-04 -7.94569593e+00 -2.11833981e+01]\n",
      " [-1.42576015e+01 -1.74279603e-06 -1.37201064e+01]\n",
      " [-2.30240286e+01 -1.29534783e-09 -2.05449890e+01]\n",
      " [-4.88161352e-01 -2.90309079e+00 -1.10445106e+00]\n",
      " [ 0.00000000e+00 -4.31827990e+01 -5.81646772e+01]\n",
      " [-4.27947802e-02 -3.17339066e+00 -1.03948947e+01]\n",
      " [-1.81959402e+01 -7.62445042e-05 -9.48176757e+00]\n",
      " [-8.38603660e-02 -2.52665660e+00 -7.57221258e+00]\n",
      " [-3.22207955e+00 -4.10024121e-02 -8.10797113e+00]\n",
      " [-2.46981888e+01 -1.86446414e-11 -6.98487008e+01]\n",
      " [-2.03342144e+01 -1.47554147e-09 -3.92233903e+01]\n",
      " [-5.83809504e+00 -6.54782529e-03 -5.62348095e+00]\n",
      " [-2.29645452e+01 -5.25176347e-09 -1.90851499e+01]\n",
      " [-3.55661842e+01  0.00000000e+00 -4.24052085e+01]\n",
      " [-2.62489190e-01 -1.50374482e+00 -4.75958317e+00]\n",
      " [-9.61090441e+00 -7.35542124e+00 -7.06361761e-04]\n",
      " [-6.38514960e+01 -3.98021354e+01  0.00000000e+00]\n",
      " [-3.01498120e+01 -2.29294553e+01 -1.10219389e-10]\n",
      " [-6.56979680e+00 -1.85499140e-02 -4.07590516e+00]\n",
      " [-2.61877315e+01 -5.32553878e-06 -1.21430001e+01]\n",
      " [-8.16230209e-02 -2.55319103e+00 -7.50964910e+00]\n",
      " [-5.39405135e+01  0.00000000e+00 -6.35449404e+01]\n",
      " [-1.33847066e+01 -8.50020302e+00 -2.04986568e-04]\n",
      " [-1.66486989e-03 -6.39893655e+00 -1.56508134e+01]\n",
      " [-3.54592019e+01 -4.34852154e-11 -2.38591526e+01]\n",
      " [-1.67181923e-05 -1.09990214e+01 -3.10460964e+01]\n",
      " [-3.24007488e-12 -2.64605495e+01 -4.62445006e+01]\n",
      " [-4.93969078e-01 -9.42248038e-01 -9.91004558e+00]\n",
      " [-1.27588063e+01 -4.28489577e+00 -1.38737307e-02]\n",
      " [-8.51280230e+00 -2.00900288e-04 -3.30964827e+01]\n",
      " [-9.53805694e-01 -1.95765725e+00 -7.47520594e-01]\n",
      " [-2.39457328e+01 -4.78362125e+00 -8.40083841e-03]\n",
      " [-6.88455109e+00 -6.32174053e-02 -2.80946584e+00]\n",
      " [-1.19687509e+00 -3.59911614e-01 -8.98626693e+00]\n",
      " [-1.87333258e+01 -7.31517957e-09 -3.06597022e+01]\n",
      " [-9.30126199e+00 -9.17024842e-05 -1.47587830e+01]\n",
      " [-1.83617458e-05 -1.09052503e+01 -2.79528710e+01]\n",
      " [-4.17668896e+00 -2.82020657e-01 -1.46797025e+00]\n",
      " [-9.35635421e-01 -5.00856761e-01 -6.40559793e+00]\n",
      " [-1.80890024e+01 -1.28791942e-01 -2.11326207e+00]\n",
      " [-1.36076185e+01 -1.25096381e-06 -1.77334133e+01]\n",
      " [-1.80385245e+01 -5.16739426e+00 -5.71571896e-03]\n",
      " [-3.66766683e+01 -5.68434189e-14 -3.10977478e+01]\n",
      " [-5.53086466e-11 -2.36185825e+01 -3.55160001e+01]\n",
      " [-1.02318154e-12 -2.75579030e+01 -3.71249660e+01]\n",
      " [-2.98990197e+01 -6.43467502e-11 -2.34687265e+01]\n",
      " [-2.86616586e-02 -3.56649395e+00 -1.65234323e+01]\n",
      " [-1.98341178e-01 -1.71530639e+00 -1.34784647e+01]\n",
      " [-7.10395031e+00 -1.03791320e-03 -8.44244376e+00]\n",
      " [-5.98945961e+00 -2.77367171e-02 -3.69487463e+00]\n",
      " [-4.80202312e+01 -8.41169367e-07 -1.39884732e+01]\n",
      " [-2.61675022e-01 -1.49739301e+00 -5.03192349e+00]]\n"
     ]
    }
   ],
   "source": [
    "from scipy.special import logsumexp\n",
    "\n",
    "\n",
    "def NB_classify(class_priors, likelihoods, X_val):\n",
    "\n",
    "    predictions = np.zeros((X_val.shape[0], num_classes))  # an empty numpy array to store the predictions in\n",
    "\n",
    "    sum_of_log_likelihoods = X_val.dot(np.log(likelihoods))\n",
    "    log_joint_prob = sum_of_log_likelihoods + np.log(class_priors)[None, :]\n",
    "    for n, doc in enumerate(X_val):\n",
    "        predictions[n, :] = log_joint_prob[n]\n",
    "        predictions[n, :] -= logsumexp(predictions[n, :])\n",
    "    return predictions\n",
    "\n",
    "predictions = NB_classify(class_priors, likelihoods, X_val)\n",
    "print(predictions)"
   ]
  },
  {
   "cell_type": "markdown",
   "id": "d25d91f5",
   "metadata": {},
   "source": [
    "Use the 'predictions' array above to compute and print the accuracy of the classifier on the validation set.   "
   ]
  },
  {
   "cell_type": "code",
   "execution_count": 16,
   "id": "c70cca90",
   "metadata": {},
   "outputs": [
    {
     "data": {
      "text/plain": [
       "0.705"
      ]
     },
     "execution_count": 16,
     "metadata": {},
     "output_type": "execute_result"
    }
   ],
   "source": [
    "from sklearn.metrics import accuracy_score\n",
    "\n",
    "accuracy_score(val_labels, np.argmax(predictions, axis=1))"
   ]
  },
  {
   "cell_type": "markdown",
   "id": "a322e627",
   "metadata": {},
   "source": [
    "## TASK 1.1c\n",
    "\n",
    "The simplicty of naïve Bayes means that we can quite easily interpret the model. In the code above, we used the functions you implemented, compute_feature_likelihoods and compute_class_priors, to train an NB classifier with our training set. Given this classifier, which are the five n-gram features that most strongly indicate that the document belongs to class 0? Store these features in the 'top_features' list below.    (4 marks)"
   ]
  },
  {
   "cell_type": "code",
   "execution_count": 17,
   "id": "b6369d13",
   "metadata": {},
   "outputs": [
    {
     "name": "stdout",
     "output_type": "stream",
     "text": [
      "['climate change', 'of the', ', and', 'in the', 'to the']\n"
     ]
    }
   ],
   "source": [
    "top_features = []\n",
    "\n",
    "### WRITE YOUR ANSWER HERE\n",
    "sorted_indices = np.argsort(likelihoods[:, 0])[::-1]\n",
    "top_indices = sorted_indices[:5]\n",
    "top_features = vectorizer.get_feature_names_out()[top_indices].tolist()\n",
    "### END OF ANSWER\n",
    "\n",
    "### DO NOT MODIFY\n",
    "print(top_features)\n",
    "pd.DataFrame(top_features).to_csv('./outputs/11c_top_feats.csv')\n",
    "###"
   ]
  },
  {
   "cell_type": "markdown",
   "id": "caecba31",
   "metadata": {},
   "source": [
    "Up to this point, the classifier used bigrams features extracted using CountVectorizer with the wordnet tokenizer. \n",
    "\n",
    "## TASK 1.1d\n",
    "\n",
    "Your task is to improve the naïve Bayes classifier by changing the preprocessing or features only. It is up to you to decide how many changes are needed to improve the classifier -- a single change may be enough to achieve a good result (and maximum marks) and you should only include steps that help performance. Complete the 'preprocess_improved' function below, and run the cell to compute accuracy of the improved classifier on the validation set.     (3 marks)"
   ]
  },
  {
   "cell_type": "code",
   "execution_count": 18,
   "id": "a4a80f2d",
   "metadata": {},
   "outputs": [
    {
     "name": "stderr",
     "output_type": "stream",
     "text": [
      "c:\\Users\\arpan\\anaconda3\\envs\\text_analytics\\Lib\\site-packages\\sklearn\\feature_extraction\\text.py:517: UserWarning: The parameter 'token_pattern' will not be used since 'tokenizer' is not None'\n",
      "  warnings.warn(\n",
      "c:\\Users\\arpan\\anaconda3\\envs\\text_analytics\\Lib\\site-packages\\sklearn\\feature_extraction\\text.py:402: UserWarning: Your stop_words may be inconsistent with your preprocessing. Tokenizing the stop words generated tokens ['ha', 'u', 'wa'] not in stop_words.\n",
      "  warnings.warn(\n"
     ]
    },
    {
     "name": "stdout",
     "output_type": "stream",
     "text": [
      "0.795\n"
     ]
    }
   ],
   "source": [
    "from nltk.stem import WordNetLemmatizer\n",
    "import re\n",
    "def preprocess_improved(train_texts):\n",
    "    ### WRITE YOUR ANSWER HERE\n",
    "    lemmatizer = WordNetLemmatizer()\n",
    "\n",
    "    def custom_tokenizer(text):\n",
    "        text = text.lower()  # Normalize casing\n",
    "        text = re.sub(r'[^\\w\\s]', '', text)  # Remove punctuation\n",
    "        tokens = word_tokenize(text)\n",
    "        tokens = [lemmatizer.lemmatize(token) for token in tokens]  # Lemmatize\n",
    "        return tokens\n",
    "    \n",
    "    vectorizer = CountVectorizer(\n",
    "        ngram_range=(1, 2),  # Use unigrams + bigrams\n",
    "        tokenizer=custom_tokenizer,\n",
    "        stop_words='english',  # Remove stopwords\n",
    "        min_df=2,  # Ignore rare terms (appearing in <2 docs)\n",
    "        max_features=3000  # Limit feature space\n",
    "    )\n",
    "    \n",
    "    #vectorizer = CountVectorizer(ngram_range=(2,2), tokenizer=word_tokenize)\n",
    "    X = vectorizer.fit_transform(train_texts).toarray()\n",
    "    num_features = X.shape[1]\n",
    "\n",
    "    X_val = vectorizer.transform(val_texts).toarray()\n",
    "\n",
    "    ### END OF ANSWER\n",
    "\n",
    "    return X, X_val, vectorizer, num_features\n",
    "\n",
    "X, X_val, vectorizer, num_features = preprocess_improved(train_texts)\n",
    "class_priors = compute_class_priors(train_texts, train_labels)\n",
    "likelihoods = compute_feature_likelihoods(X, train_labels)\n",
    "predictions = NB_classify(class_priors, likelihoods, X_val)\n",
    "predictions_nb = np.argmax(predictions, axis=1)\n",
    "\n",
    "### DO NOT MODIFY\n",
    "pd.DataFrame(predictions_nb).to_csv('./outputs/11d_improved_preds.csv')\n",
    "accuracy_improved = accuracy_score(val_labels, predictions_nb)\n",
    "print(accuracy_improved)\n",
    "###"
   ]
  },
  {
   "cell_type": "markdown",
   "id": "f4c60bcf",
   "metadata": {},
   "source": [
    "## TASK 1.2\n",
    "\n",
    "Below is an implementation of a neural network classifier that we can apply to the same dataset. However, there are some mistakes in the code and some poor choices in the choice of parameters and architecture. Your task is to fix the errors, make better parameter choices, and improve the model's performance. **Modify the code within the next cell** to improve the neural network classifier, then run it and compute its accuracy using the code in the cell after that.   (8 marks)"
   ]
  },
  {
   "cell_type": "code",
   "execution_count": 19,
   "id": "e63e18fb-770a-4590-84a6-c2ad2255646d",
   "metadata": {},
   "outputs": [
    {
     "data": {
      "application/vnd.jupyter.widget-view+json": {
       "model_id": "1f91df3c160b4b178d24e0d1950c5532",
       "version_major": 2,
       "version_minor": 0
      },
      "text/plain": [
       "Map:   0%|          | 0/800 [00:00<?, ? examples/s]"
      ]
     },
     "metadata": {},
     "output_type": "display_data"
    },
    {
     "data": {
      "application/vnd.jupyter.widget-view+json": {
       "model_id": "0972e3c96a8e4be4a70141ebcb8dcfe1",
       "version_major": 2,
       "version_minor": 0
      },
      "text/plain": [
       "Map:   0%|          | 0/200 [00:00<?, ? examples/s]"
      ]
     },
     "metadata": {},
     "output_type": "display_data"
    },
    {
     "name": "stdout",
     "output_type": "stream",
     "text": [
      "Epoch 1/5 | Train Loss: 1.0758 | Val Loss: 1.0574\n",
      "Epoch 2/5 | Train Loss: 0.8226 | Val Loss: 1.1288\n",
      "Epoch 3/5 | Train Loss: 0.6620 | Val Loss: 1.2055\n",
      "Epoch 4/5 | Train Loss: 0.4418 | Val Loss: 1.0702\n",
      "Epoch 5/5 | Train Loss: 0.3116 | Val Loss: 1.1176\n",
      "0.395\n"
     ]
    }
   ],
   "source": [
    "from torch import nn, optim\n",
    "from transformers import AutoTokenizer\n",
    "from torch.utils.data import DataLoader\n",
    "import numpy as np\n",
    "\n",
    "# Initialize tokenizer with a more suitable model\n",
    "tokenizer = AutoTokenizer.from_pretrained(\"distilroberta-base\")  # More general-purpose than climate-specific\n",
    "\n",
    "# Improved hyperparameters\n",
    "sequence_length = 128  # Longer sequence to capture context\n",
    "batch_size = 32        # Larger batch size for stable training\n",
    "embedding_size = 128   # Larger embedding dimensions\n",
    "hidden_size = 64       # Balanced hidden layer size\n",
    "\n",
    "def tokenize_function(examples):\n",
    "    return tokenizer(\n",
    "        examples[\"text\"],\n",
    "        padding=\"max_length\",\n",
    "        truncation=True,\n",
    "        max_length=sequence_length,\n",
    "        return_tensors=\"pt\"\n",
    "    )\n",
    "\n",
    "# Tokenize datasets\n",
    "tokenized_train = train_dataset.map(tokenize_function, batched=True)\n",
    "tokenized_train.set_format(type=\"torch\", columns=[\"input_ids\", \"attention_mask\", \"label\"])\n",
    "train_loader = DataLoader(tokenized_train, batch_size=batch_size, shuffle=True)\n",
    "\n",
    "tokenized_val = val_dataset.map(tokenize_function, batched=True)\n",
    "tokenized_val.set_format(type=\"torch\", columns=[\"input_ids\", \"attention_mask\", \"label\"])\n",
    "val_loader = DataLoader(tokenized_val, batch_size=batch_size, shuffle=False)\n",
    "\n",
    "class FFTextClassifier(nn.Module):\n",
    "    def __init__(self, vocab_size, sequence_length, num_classes, embedding_size=128, hidden_size=64):\n",
    "        super().__init__()\n",
    "        self.embedding = nn.Embedding(vocab_size, embedding_size)\n",
    "        self.dropout = nn.Dropout(0.3)  # Regularization\n",
    "        self.fc1 = nn.Linear(embedding_size * sequence_length, hidden_size)\n",
    "        self.fc2 = nn.Linear(hidden_size, num_classes)\n",
    "        self.relu = nn.ReLU()\n",
    "\n",
    "    def forward(self, input_ids):\n",
    "        x = self.embedding(input_ids)  # (batch, seq_len, emb_size)\n",
    "        x = x.view(x.size(0), -1)      # Flatten: (batch, seq_len*emb_size)\n",
    "        x = self.dropout(x)\n",
    "        x = self.relu(self.fc1(x))\n",
    "        x = self.fc2(x)\n",
    "        return x\n",
    "\n",
    "    def run_training(self, train_loader, val_loader, num_epochs=5, lr=1e-4):\n",
    "        criterion = nn.CrossEntropyLoss()\n",
    "        optimizer = optim.AdamW(self.parameters(), lr=lr, weight_decay=1e-5)  # AdamW with L2 regularization\n",
    "        \n",
    "        for epoch in range(num_epochs):\n",
    "            self.train()\n",
    "            train_loss = 0.0\n",
    "            for batch in train_loader:\n",
    "                optimizer.zero_grad()\n",
    "                outputs = self(batch['input_ids'])\n",
    "                loss = criterion(outputs, batch['label'])\n",
    "                loss.backward()\n",
    "                optimizer.step()\n",
    "                train_loss += loss.item()\n",
    "            \n",
    "            # Validation\n",
    "            self.eval()\n",
    "            val_loss = 0.0\n",
    "            with torch.no_grad():\n",
    "                for batch in val_loader:\n",
    "                    outputs = self(batch['input_ids'])\n",
    "                    val_loss += criterion(outputs, batch['label']).item()\n",
    "            \n",
    "            print(f\"Epoch {epoch+1}/{num_epochs} | Train Loss: {train_loss/len(train_loader):.4f} | Val Loss: {val_loss/len(val_loader):.4f}\")\n",
    "\n",
    "def predict_nn(trained_model, data_loader):\n",
    "\n",
    "    trained_model.eval()\n",
    "\n",
    "    pred_labs = []  # predicted labels to return\n",
    "    \n",
    "    for batch in data_loader:\n",
    "        test_output = trained_model(batch['input_ids'])\n",
    "        predicted_labels = test_output.argmax(1)\n",
    "        pred_labs.extend(predicted_labels.tolist())\n",
    "    \n",
    "    return pred_labs\n",
    "\n",
    "# Initialize and train\n",
    "vocab_size = tokenizer.vocab_size\n",
    "model = FFTextClassifier(vocab_size, sequence_length, num_classes, embedding_size, hidden_size)\n",
    "model.run_training(train_loader, val_loader)\n",
    "\n",
    "predictions_nn = predict_nn(model, val_loader)\n",
    "# Predict and evaluate\n",
    "### DO NOT MODIFY\n",
    "pd.DataFrame(predictions_nn).to_csv(\"./outputs/12_nn_preds.csv\")\n",
    "accuracy_nn = accuracy_score(val_labels, predictions_nn)\n",
    "print(accuracy_nn)\n",
    "###"
   ]
  },
  {
   "cell_type": "code",
   "execution_count": 20,
   "id": "8091f8f2",
   "metadata": {},
   "outputs": [
    {
     "data": {
      "application/vnd.jupyter.widget-view+json": {
       "model_id": "78bc2d2f7e8c4344bcfb4c0845a3da54",
       "version_major": 2,
       "version_minor": 0
      },
      "text/plain": [
       "Map:   0%|          | 0/800 [00:00<?, ? examples/s]"
      ]
     },
     "metadata": {},
     "output_type": "display_data"
    },
    {
     "data": {
      "application/vnd.jupyter.widget-view+json": {
       "model_id": "3eeafe45650046858133857b3f8282cf",
       "version_major": 2,
       "version_minor": 0
      },
      "text/plain": [
       "Map:   0%|          | 0/200 [00:00<?, ? examples/s]"
      ]
     },
     "metadata": {},
     "output_type": "display_data"
    },
    {
     "name": "stdout",
     "output_type": "stream",
     "text": [
      "Epoch: 1/1 Training Loss: 17603154118783900.0000\n",
      "Epoch: 1/1 Validation Loss: 116634.2625\n",
      "0.455\n"
     ]
    }
   ],
   "source": [
    "### DO NOT MODIFY\n",
    "set_seed(2554800)\n",
    "###\n",
    "\n",
    "### WRITE YOUR ANSWER HERE: MODIFY THE CODE WITHIN THIS CELL\n",
    " \n",
    "from torch import nn\n",
    "from torch import optim\n",
    "from transformers import AutoTokenizer\n",
    "from torch.utils.data import DataLoader\n",
    "\n",
    "tokenizer = AutoTokenizer.from_pretrained(\"climatebert/distilroberta-base-climate-f\")  \n",
    "\n",
    "sequence_length = 5  # truncate all docs longer than this. Pad all docs shorter than this.\n",
    "batch_size = 1\n",
    "\n",
    "def tokenize_function(examples):\n",
    "    return tokenizer(\n",
    "        examples[\"text\"],  # Adjust the key based on your dataset structure\n",
    "        padding=\"max_length\",  # Ensures equal sequence lengths\n",
    "        truncation=True,       # Truncates longer sequences\n",
    "        max_length=sequence_length,        # Adjust as needed\n",
    "        return_tensors=\"pt\"\n",
    "    )\n",
    "\n",
    "tokenized_dataset = train_dataset.map(tokenize_function, batched=True)\n",
    "tokenized_dataset.set_format(type=\"torch\", columns=[\"input_ids\", \"attention_mask\", \"label\"])  # Adjust column names\n",
    "train_loader = DataLoader(tokenized_dataset, batch_size=batch_size, shuffle=True)\n",
    "\n",
    "tokenized_dataset = val_dataset.map(tokenize_function, batched=True)\n",
    "tokenized_dataset.set_format(type=\"torch\", columns=[\"input_ids\", \"attention_mask\", \"label\"])  # Adjust column names\n",
    "val_loader = DataLoader(tokenized_dataset, batch_size=batch_size, shuffle=False)\n",
    "\n",
    "class FFTextClassifier(nn.Module):\n",
    "    \n",
    "    def __init__(self, vocab_size, sequence_length, num_classes, embedding_size=2, hidden_size=2):\n",
    "        super(FFTextClassifier, self).__init__()\n",
    "\n",
    "        self.embedding_size = embedding_size\n",
    "        self.sequence_length = sequence_length\n",
    "\n",
    "        # Here we just need to construct the components of our network. We don't need to connect them together yet.\n",
    "        self.embedding_layer = nn.Embedding(vocab_size, embedding_size) # embedding layer\n",
    "        self.hidden_layer = nn.Linear(self.embedding_size*sequence_length, hidden_size)  #nn.LSTM(self.embedding_size, hidden_size, bidirectional=True, batch_first=True) # Hidden layer\n",
    "        self.activation = nn.ReLU() # Hidden layer\n",
    "        self.output_layer = nn.Linear(hidden_size, num_classes) # Full connection layer\n",
    "        \n",
    "        \n",
    "    def forward(self, input_words):\n",
    "        # Input dimensions are:  (batch_size, seq_length)\n",
    "        embedded_words = self.embedding_layer(input_words)  # (batch_size, seq_length, embedding_size)\n",
    "\n",
    "        # flatten the sequence of embedding vectors for each document into a single vector.\n",
    "        embedded_words = embedded_words.reshape(embedded_words.shape[0], self.sequence_length*self.embedding_size)  #(embedded_words.shape[0], self.sequence_length*self.embedding_size)  # batch_size, seq_length*embedding_size\n",
    "\n",
    "        z = self.hidden_layer(embedded_words)   # (batch_size, seq_length, hidden_size)\n",
    "        h = self.activation(z)                  # (batch_size, seq_length, hidden_size)\n",
    "\n",
    "        output = self.output_layer(h)                      # (batch_size, num_classes)\n",
    "\n",
    "        # Notice we haven't applied a softmax activation to the output layer -- it's not required by Pytorch's loss function.\n",
    "\n",
    "        return output\n",
    "\n",
    "\n",
    "    def run_training(self, train_dataloader, dev_dataloader):\n",
    "\n",
    "        # training hyperparameters\n",
    "        num_epochs = 1   \n",
    "        learning_rate = 5e5  # learning rate for the gradient descent optimizer, related to the step size\n",
    "\n",
    "        loss_fn = nn.CrossEntropyLoss()  # create loss function object\n",
    "        optimizer = optim.Adam(self.parameters(), lr=learning_rate)  # create the optimizer\n",
    "        \n",
    "        dev_losses = []\n",
    "            \n",
    "        for e in range(num_epochs):\n",
    "            # Track performance on the training set as we are learning...\n",
    "            train_losses = []\n",
    "\n",
    "            self.train()  # Put the model in training mode.\n",
    "\n",
    "            for i, batch in enumerate(train_dataloader):\n",
    "                # Iterate over each batch of data\n",
    "\n",
    "                optimizer.zero_grad()  # Reset the optimizer\n",
    "\n",
    "                # Use the model to perform forward inference on the input data.\n",
    "                # This will run the forward() function.\n",
    "                output = self(batch['input_ids'])\n",
    "\n",
    "                # Compute the loss for the current batch of data\n",
    "                batch_loss = loss_fn(output, batch['label'])\n",
    "\n",
    "                # Perform back propagation to compute the gradients with respect to each weight\n",
    "                batch_loss.backward()\n",
    "\n",
    "                # Update the weights using the compute gradients\n",
    "                optimizer.step()\n",
    "\n",
    "                # Record the loss from this sample to keep track of progress.\n",
    "                train_losses.append(batch_loss.item())\n",
    "\n",
    "            print(\"Epoch: {}/{}\".format((e+1), num_epochs),\n",
    "                \"Training Loss: {:.4f}\".format(np.mean(train_losses)))\n",
    "\n",
    "            self.eval()  # Switch model to evaluation mode\n",
    "\n",
    "            dev_losses_epoch = []\n",
    "            \n",
    "            for dev_batch in dev_dataloader:\n",
    "                dev_output = self(dev_batch['input_ids'])\n",
    "                dev_loss = loss_fn(dev_output, dev_batch['label'])\n",
    "\n",
    "                # Save the loss on the dev set\n",
    "                dev_losses_epoch.append(dev_loss.item())\n",
    "                        \n",
    "            dev_losses.append(np.mean(dev_losses_epoch))\n",
    "                    \n",
    "            print(\"Epoch: {}/{}\".format((e+1), num_epochs),\n",
    "                \"Validation Loss: {:.4f}\".format(dev_losses[-1]) )\n",
    "\n",
    "        return dev_losses\n",
    "\n",
    "def predict_nn(trained_model, data_loader):\n",
    "\n",
    "    trained_model.eval()\n",
    "\n",
    "    pred_labs = []  # predicted labels to return\n",
    "    \n",
    "    for batch in data_loader:\n",
    "        test_output = trained_model(batch['input_ids'])\n",
    "        predicted_labels = test_output.argmax(1)\n",
    "        pred_labs.extend(predicted_labels.tolist())\n",
    "    \n",
    "    return pred_labs\n",
    "\n",
    "vocab_size = max(tokenizer.get_vocab().values()) + 1\n",
    "nn_classifier_model = FFTextClassifier(vocab_size, sequence_length, num_classes)\n",
    "dev_losses = nn_classifier_model.run_training(train_loader, val_loader)\n",
    "\n",
    "predictions_nn = predict_nn(nn_classifier_model, val_loader)\n",
    "\n",
    "### END OF ANSWER \n",
    "\n",
    "### DO NOT MODIFY\n",
    "pd.DataFrame(predictions_nn).to_csv(\"./outputs/12_nn_preds.csv\")\n",
    "accuracy_nn = accuracy_score(val_labels, predictions_nn)\n",
    "print(accuracy_nn)\n",
    "###"
   ]
  },
  {
   "cell_type": "markdown",
   "id": "665ddf4e",
   "metadata": {},
   "source": [
    "We now explore the use of transformers for building a text classifier. First, let's look at how the process a document. We'll chose one at random from the training set:"
   ]
  },
  {
   "cell_type": "code",
   "execution_count": 21,
   "id": "54d2a23e",
   "metadata": {},
   "outputs": [],
   "source": [
    "### DO NOT MODIFY\n",
    "chosen_document = train_texts[np.random.randint(len(train_texts))]"
   ]
  },
  {
   "cell_type": "markdown",
   "id": "ca45d880",
   "metadata": {},
   "source": [
    "## TASK 1.3a\n",
    "\n",
    "Use the HuggingFace transformers library to load the pretrained BERT model \"prajjwal1/bert-tiny\". Obtain a document embedding for the chosen document given above. Comment your code to explain how it obtains a representation of the document.    (3 marks)"
   ]
  },
  {
   "cell_type": "code",
   "execution_count": 26,
   "id": "1266cce6",
   "metadata": {},
   "outputs": [
    {
     "name": "stdout",
     "output_type": "stream",
     "text": [
      "[0.008394082076847553, 0.9726738333702087, -0.9660142660140991, -0.5269185304641724, 0.22151845693588257, -0.06738971918821335, 0.36344945430755615, 0.7301638126373291, -1.1319618225097656, 0.019217297434806824, 0.64316725730896, 1.0371851921081543, -0.6985160708427429, -1.2869834899902344, 1.7348040342330933, -0.9035645723342896, -1.0529977083206177, -0.701332688331604, -0.43761876225471497, 0.8589183688163757, 0.27598750591278076, 0.05708514153957367, 0.9188026189804077, 1.3096586465835571, 2.509965419769287, -0.5023406147956848, 0.0976107120513916, -0.17974132299423218, -0.40038734674453735, -0.0323413722217083, -0.46496328711509705, -2.2116446495056152, 0.15867452323436737, -0.4555830657482147, 0.955571711063385, -1.5826778411865234, -1.0851718187332153, 0.25275203585624695, -1.504386305809021, -0.24071376025676727, 0.6129204034805298, 0.16323818266391754, -0.43764105439186096, -1.6788743734359741, 0.2927488684654236, -1.4292832612991333, 0.2150164395570755, 0.42032426595687866, -0.3486393690109253, 0.8901717066764832, 0.7820523381233215, 0.9050966501235962, -0.20562434196472168, -0.17899955809116364, -0.6290687918663025, -0.2526870369911194, -0.6653163433074951, -0.9569946527481079, 0.4375951290130615, 2.4551210403442383, 0.1652478277683258, -0.42778560519218445, -1.4091179370880127, -1.1606239080429077, -0.1786508560180664, 0.8005199432373047, -0.04876429960131645, 0.9870229363441467, -1.9853460788726807, -0.9841952323913574, -0.7132332921028137, 0.24669446051120758, 0.6557198762893677, -0.06796645373106003, -0.7523670792579651, 0.03426925837993622, 0.16387327015399933, -0.4352579712867737, 1.8042612075805664, 0.3360659182071686, -0.742520809173584, -0.9930713176727295, 0.3920843005180359, 0.3482382595539093, 1.2103358507156372, 0.6462910771369934, 0.4496991038322449, -0.3545647859573364, 0.8230423331260681, -1.1049542427062988, 1.887829065322876, 0.1319684088230133, -0.3414795696735382, 0.8380904197692871, -0.17492711544036865, 0.32926106452941895, -0.13726508617401123, -0.675209641456604, 0.5297524929046631, 0.750131368637085, 0.7032591104507446, 0.08859873563051224, -1.0996161699295044, -0.5892418622970581, -0.08138331770896912, -1.8410588502883911, -0.22305038571357727, -0.40002381801605225, 0.677914023399353, -0.10952899605035782, -0.4668318033218384, 1.1666526794433594, 0.5695209503173828, -0.2653997540473938, -0.26245707273483276, -0.15259185433387756, 0.3410726487636566, -0.3261747360229492, -0.7310847043991089, -0.7403345704078674, 0.38709285855293274, 0.9510425925254822, 0.9841660261154175, -0.24180981516838074, -2.074826955795288, -1.0024259090423584, -1.6546303033828735, 1.509757161140442]\n"
     ]
    }
   ],
   "source": [
    "### DO NOT MODIFY\n",
    "set_seed(2554800)\n",
    "###\n",
    "\n",
    "### WRITE YOUR ANSWER HERE\n",
    "from transformers import AutoTokenizer, AutoModel\n",
    "import torch\n",
    "# Load the pretrained tiny BERT model and tokenizer\n",
    "tokenizer = AutoTokenizer.from_pretrained(\"prajjwal1/bert-tiny\")\n",
    "model = AutoModel.from_pretrained(\"prajjwal1/bert-tiny\")\n",
    "\n",
    "# Choose a document (using first validation text as example)\n",
    "document = chosen_document  # Replace with your chosen document if needed\n",
    "\n",
    "# Tokenize the document and prepare for model input\n",
    "inputs = tokenizer(\n",
    "    document,\n",
    "    padding=True,          # Pad to max length\n",
    "    truncation=True,       # Truncate if needed\n",
    "    max_length=512,        # BERT's max input length\n",
    "    return_tensors=\"pt\"    # Return PyTorch tensors\n",
    ")\n",
    "\n",
    "# Get model outputs (no gradient needed for inference)\n",
    "with torch.no_grad():\n",
    "    outputs = model(**inputs)\n",
    "\n",
    "# Extract embeddings:\n",
    "# We use mean pooling of last hidden states to get a fixed-size doc embedding\n",
    "# Shape of last_hidden_states: [batch_size, seq_length, hidden_dim]\n",
    "last_hidden_states = outputs.last_hidden_state\n",
    "\n",
    "# Mean pooling across sequence dimension (axis=1) to get document embedding\n",
    "doc_emb = last_hidden_states.mean(dim=1).squeeze().tolist()\n",
    "#doc_emb = []  # use this variable to store the document embedding\n",
    "\n",
    "\n",
    "### END OF ANSWER\n",
    "\n",
    "### DO NOT MODIFY\n",
    "pd.DataFrame(doc_emb).to_csv('./outputs/13a_sen_emb.csv')\n",
    "print(doc_emb)\n",
    "###"
   ]
  },
  {
   "cell_type": "markdown",
   "id": "aa93e1d9",
   "metadata": {},
   "source": [
    "## TASK 1.3b\n",
    "\n",
    "Using the same document embeddings method as the previous task, find the most similar document to the 'chosen_document' from within the validation set (from the 'val_texts' object). Use a standard similarity metric that considers the direction but not the magnitude of the embedding vectors. Use the same model as in task 1.8.  (2 marks)"
   ]
  },
  {
   "cell_type": "code",
   "execution_count": 27,
   "id": "19d97094",
   "metadata": {},
   "outputs": [
    {
     "name": "stdout",
     "output_type": "stream",
     "text": [
      "We strengthened our commitment to responsible ownership by investing directly in projects and companies that are making a positive impact, such as a $170 million commitment to affordable housing. And through the development of our new Climate Change Portfolio Transition Plan, we’ve committed to transitioning our investment portfolio to carbon neutrality, achieving net zero emissions by 2050.\n",
      "0\n"
     ]
    }
   ],
   "source": [
    "### DO NOT MODIFY\n",
    "set_seed(2554800)\n",
    "###\n",
    "\n",
    "### WRITE YOUR ANSWER HERE\n",
    "from sklearn.metrics.pairwise import cosine_similarity\n",
    "# Define embedding function (reusable)\n",
    "def get_embedding(text):\n",
    "    inputs = tokenizer(text, return_tensors=\"pt\", padding=True, truncation=True, max_length=512)\n",
    "    with torch.no_grad():\n",
    "        outputs = model(**inputs)\n",
    "    return outputs.last_hidden_state.mean(dim=1).squeeze().numpy()\n",
    "\n",
    "# Get embedding for the chosen document (replace with your actual chosen_document)\n",
    "#chosen_document = chosen_document  # Example - use your specific document\n",
    "chosen_emb = get_embedding(chosen_document)\n",
    "\n",
    "# Compute embeddings for all validation documents\n",
    "val_embeddings = np.array([get_embedding(doc) for doc in val_texts])\n",
    "\n",
    "# Calculate cosine similarities (measures directional similarity, ignores magnitude)\n",
    "similarities = cosine_similarity([chosen_emb], val_embeddings)[0]\n",
    "\n",
    "# Find most similar document (excluding identical matches)\n",
    "most_similar_doc = np.argmax(similarities)\n",
    "#most_similar_doc = \"\"  # use this variable to store the most similar document\n",
    "\n",
    "### END OF ANSWER\n",
    "\n",
    "### DO NOT MODIFY\n",
    "pd.DataFrame([chosen_document, most_similar_doc]).to_csv(\"./outputs/13b_most_similar.csv\")\n",
    "print(chosen_document)\n",
    "print(most_similar_doc)\n",
    "###"
   ]
  },
  {
   "cell_type": "markdown",
   "id": "89641896",
   "metadata": {},
   "source": [
    "## TASK 1.3c\n",
    "\n",
    "Implement a classifier based on the same pretrained transformer model, \"prajjwal1/bert-tiny\". Evaluate your model's performance on the validation set. Use an 'auto class' from HuggingFace to build your classifier (see https://huggingface.co/docs/transformers/model_doc/auto).   (6 marks)"
   ]
  },
  {
   "cell_type": "code",
   "execution_count": 29,
   "id": "2e6fd664",
   "metadata": {},
   "outputs": [
    {
     "name": "stderr",
     "output_type": "stream",
     "text": [
      "Some weights of BertForSequenceClassification were not initialized from the model checkpoint at prajjwal1/bert-tiny and are newly initialized: ['classifier.bias', 'classifier.weight']\n",
      "You should probably TRAIN this model on a down-stream task to be able to use it for predictions and inference.\n",
      "Evaluating: 100%|██████████| 13/13 [00:00<00:00, 18.59it/s]"
     ]
    },
    {
     "name": "stdout",
     "output_type": "stream",
     "text": [
      "0.38\n"
     ]
    },
    {
     "name": "stderr",
     "output_type": "stream",
     "text": [
      "\n"
     ]
    }
   ],
   "source": [
    "### DO NOT MODIFY\n",
    "set_seed(2554800)\n",
    "###\n",
    "\n",
    "### WRITE YOUR ANSWER HERE\n",
    "from transformers import AutoModelForSequenceClassification\n",
    "from tqdm import tqdm\n",
    "\n",
    "model_name = \"prajjwal1/bert-tiny\"\n",
    "tokenizer = AutoTokenizer.from_pretrained(model_name)\n",
    "model = AutoModelForSequenceClassification.from_pretrained(\n",
    "    model_name,\n",
    "    num_labels=num_classes  # Set based on your dataset (3 for climate sentiment)\n",
    ")\n",
    "\n",
    "# Tokenize validation set\n",
    "def tokenize_function(examples):\n",
    "    return tokenizer(\n",
    "        examples[\"text\"],\n",
    "        padding=\"max_length\",\n",
    "        truncation=True,\n",
    "        max_length=128,\n",
    "        return_tensors=\"pt\"\n",
    "    )\n",
    "\n",
    "tokenized_val = val_dataset.map(tokenize_function, batched=True)\n",
    "tokenized_val.set_format(type=\"torch\", columns=[\"input_ids\", \"attention_mask\", \"label\"])\n",
    "\n",
    "# Create DataLoader\n",
    "val_loader = DataLoader(tokenized_val, batch_size=16)\n",
    "\n",
    "# Prediction loop\n",
    "device = torch.device(\"cuda\" if torch.cuda.is_available() else \"cpu\")\n",
    "model.to(device)\n",
    "model.eval()\n",
    "predictions_bert = []  # use this variable to store the predicted labels for the validation set\n",
    "with torch.no_grad():\n",
    "    for batch in tqdm(val_loader, desc=\"Evaluating\"):\n",
    "        inputs = {\n",
    "            \"input_ids\": batch[\"input_ids\"].to(device),\n",
    "            \"attention_mask\": batch[\"attention_mask\"].to(device)\n",
    "        }\n",
    "        outputs = model(**inputs)\n",
    "        preds = torch.argmax(outputs.logits, dim=1)\n",
    "        predictions_bert.extend(preds.cpu().tolist())\n",
    "\n",
    "### END OF ANSWER\n",
    "\n",
    "### DO NOT MODIFY\n",
    "pd.DataFrame(predictions_bert).to_csv('./outputs/13c_bert_preds.csv')\n",
    "accuracy_tinybert = accuracy_score(val_dataset[\"label\"], predictions_bert)\n",
    "print(accuracy_tinybert)\n",
    "###"
   ]
  },
  {
   "cell_type": "code",
   "execution_count": 28,
   "id": "e9d2050f",
   "metadata": {},
   "outputs": [
    {
     "name": "stderr",
     "output_type": "stream",
     "text": [
      "Some weights of BertForSequenceClassification were not initialized from the model checkpoint at prajjwal1/bert-tiny and are newly initialized: ['classifier.bias', 'classifier.weight']\n",
      "You should probably TRAIN this model on a down-stream task to be able to use it for predictions and inference.\n"
     ]
    },
    {
     "data": {
      "application/vnd.jupyter.widget-view+json": {
       "model_id": "1e6ee776b8d84120b67469d1d2f87694",
       "version_major": 2,
       "version_minor": 0
      },
      "text/plain": [
       "Map:   0%|          | 0/200 [00:00<?, ? examples/s]"
      ]
     },
     "metadata": {},
     "output_type": "display_data"
    },
    {
     "name": "stderr",
     "output_type": "stream",
     "text": [
      "c:\\Users\\arpan\\anaconda3\\envs\\text_analytics\\Lib\\site-packages\\transformers\\training_args.py:1594: FutureWarning: `evaluation_strategy` is deprecated and will be removed in version 4.46 of 🤗 Transformers. Use `eval_strategy` instead\n",
      "  warnings.warn(\n"
     ]
    },
    {
     "data": {
      "text/html": [
       "\n",
       "    <div>\n",
       "      \n",
       "      <progress value='150' max='150' style='width:300px; height:20px; vertical-align: middle;'></progress>\n",
       "      [150/150 00:32, Epoch 3/3]\n",
       "    </div>\n",
       "    <table border=\"1\" class=\"dataframe\">\n",
       "  <thead>\n",
       " <tr style=\"text-align: left;\">\n",
       "      <th>Epoch</th>\n",
       "      <th>Training Loss</th>\n",
       "      <th>Validation Loss</th>\n",
       "      <th>Accuracy</th>\n",
       "    </tr>\n",
       "  </thead>\n",
       "  <tbody>\n",
       "    <tr>\n",
       "      <td>1</td>\n",
       "      <td>No log</td>\n",
       "      <td>1.044957</td>\n",
       "      <td>0.550000</td>\n",
       "    </tr>\n",
       "    <tr>\n",
       "      <td>2</td>\n",
       "      <td>No log</td>\n",
       "      <td>1.031114</td>\n",
       "      <td>0.565000</td>\n",
       "    </tr>\n",
       "    <tr>\n",
       "      <td>3</td>\n",
       "      <td>No log</td>\n",
       "      <td>1.024307</td>\n",
       "      <td>0.590000</td>\n",
       "    </tr>\n",
       "  </tbody>\n",
       "</table><p>"
      ],
      "text/plain": [
       "<IPython.core.display.HTML object>"
      ]
     },
     "metadata": {},
     "output_type": "display_data"
    },
    {
     "data": {
      "text/html": [],
      "text/plain": [
       "<IPython.core.display.HTML object>"
      ]
     },
     "metadata": {},
     "output_type": "display_data"
    },
    {
     "name": "stdout",
     "output_type": "stream",
     "text": [
      "0.59\n"
     ]
    }
   ],
   "source": [
    "### DO NOT MODIFY\n",
    "set_seed(2554800)\n",
    "###\n",
    "\n",
    "### WRITE YOUR ANSWER HERE\n",
    "\n",
    "from transformers import AutoTokenizer, AutoModelForSequenceClassification, Trainer, TrainingArguments\n",
    "from datasets import load_metric\n",
    "import numpy as np\n",
    "\n",
    "# Load model and tokenizer\n",
    "tokenizer = AutoTokenizer.from_pretrained(\"prajjwal1/bert-tiny\")\n",
    "model = AutoModelForSequenceClassification.from_pretrained(\"prajjwal1/bert-tiny\", num_labels=3)\n",
    "\n",
    "# Tokenization function\n",
    "def tokenize_function(examples):\n",
    "    return tokenizer(\n",
    "        examples[\"text\"],\n",
    "        padding=\"max_length\",\n",
    "        truncation=True,\n",
    "        max_length=128  # Optimized for bert-tiny\n",
    "    )\n",
    "\n",
    "# Tokenize datasets\n",
    "tokenized_train = train_dataset.map(tokenize_function, batched=True)\n",
    "tokenized_val = val_dataset.map(tokenize_function, batched=True)\n",
    "\n",
    "# Set PyTorch format\n",
    "tokenized_train.set_format(type=\"torch\", columns=[\"input_ids\", \"attention_mask\", \"label\"])\n",
    "tokenized_val.set_format(type=\"torch\", columns=[\"input_ids\", \"attention_mask\", \"label\"])\n",
    "\n",
    "# Training configuration\n",
    "training_args = TrainingArguments(\n",
    "    output_dir=\"./bert_results\",\n",
    "    num_train_epochs=3,  # Sufficient for fine-tuning\n",
    "    per_device_train_batch_size=16,\n",
    "    per_device_eval_batch_size=16,\n",
    "    learning_rate=2e-5,  # Standard for transformer fine-tuning\n",
    "    evaluation_strategy=\"epoch\",\n",
    "    save_strategy=\"epoch\",\n",
    "    load_best_model_at_end=True,\n",
    ")\n",
    "\n",
    "# Metrics calculation\n",
    "def compute_metrics(eval_pred):\n",
    "    metric = load_metric(\"accuracy\")\n",
    "    logits, labels = eval_pred\n",
    "    predictions = np.argmax(logits, axis=-1)\n",
    "    return metric.compute(predictions=predictions, references=labels)\n",
    "\n",
    "# Initialize trainer\n",
    "trainer = Trainer(\n",
    "    model=model,\n",
    "    args=training_args,\n",
    "    train_dataset=tokenized_train,\n",
    "    eval_dataset=tokenized_val,\n",
    "    compute_metrics=compute_metrics,\n",
    ")\n",
    "\n",
    "# Fine-tune the model\n",
    "trainer.train()\n",
    "\n",
    "# Generate predictions\n",
    "predictions = trainer.predict(tokenized_val)\n",
    "predictions_bert = np.argmax(predictions.predictions, axis=1).tolist()\n",
    "### END OF ANSWER\n",
    "\n",
    "### DO NOT MODIFY\n",
    "pd.DataFrame(predictions_bert).to_csv('./outputs/13c_bert_preds.csv')\n",
    "accuracy_tinybert = accuracy_score(val_dataset[\"label\"], predictions_bert)\n",
    "print(accuracy_tinybert)\n",
    "###"
   ]
  }
 ],
 "metadata": {
  "kernelspec": {
   "display_name": "text_analytics",
   "language": "python",
   "name": "python3"
  },
  "language_info": {
   "codemirror_mode": {
    "name": "ipython",
    "version": 3
   },
   "file_extension": ".py",
   "mimetype": "text/x-python",
   "name": "python",
   "nbconvert_exporter": "python",
   "pygments_lexer": "ipython3",
   "version": "3.11.11"
  }
 },
 "nbformat": 4,
 "nbformat_minor": 5
}
